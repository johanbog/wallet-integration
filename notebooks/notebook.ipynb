{
 "cells": [
  {
   "cell_type": "code",
   "execution_count": null,
   "id": "355867ea-c147-4275-8df0-44428dbbf042",
   "metadata": {},
   "outputs": [],
   "source": [
    "# %load_ext autoreload\n",
    "# %autoreload 2\n",
    "%load_ext lab_black\n",
    "import sys\n",
    "sys.path.append(\"~/div/wallet/\")"
   ]
  },
  {
   "cell_type": "code",
   "execution_count": null,
   "id": "05d75389-16dd-4b07-a24d-99c761777d24",
   "metadata": {},
   "outputs": [],
   "source": [
    "from wallet.wallet import (\n",
    "    Wallet,\n",
    "    Account,\n",
    "    headers,\n",
    "    Transaction,\n",
    "    IGNORE_ACCOUNTS,\n",
    "    clean_data,\n",
    ")\n",
    "import os\n",
    "import patito as pt\n",
    "import pandas as pd\n",
    "import polars as pl\n",
    "from datetime import datetime"
   ]
  },
  {
   "cell_type": "code",
   "execution_count": null,
   "id": "1474761f-fea6-40cc-ad90-794d8c919b77",
   "metadata": {},
   "outputs": [],
   "source": [
    "accounts = Wallet.accounts()\n",
    "accounts"
   ]
  },
  {
   "cell_type": "code",
   "execution_count": null,
   "id": "9447ab21-4d8c-4fb9-b6ac-15c9958aa2a3",
   "metadata": {},
   "outputs": [],
   "source": [
    "account = accounts[4]\n",
    "print(account)\n",
    "transactions = Wallet.transactions(account, fromDate=\"2022-05-01\")\n",
    "transactions.cast()"
   ]
  },
  {
   "cell_type": "code",
   "execution_count": null,
   "id": "34c9c730-e625-4d95-a70f-993590528449",
   "metadata": {},
   "outputs": [],
   "source": [
    "df = clean_data(transactions)\n",
    "# df_clean.to_csv(\"test_csv.csv\")"
   ]
  },
  {
   "cell_type": "code",
   "execution_count": null,
   "id": "bc0f03f1-35b9-49c9-af5e-164c00ad1bcb",
   "metadata": {},
   "outputs": [],
   "source": [
    "df"
   ]
  },
  {
   "cell_type": "code",
   "execution_count": null,
   "id": "87a6f750-2a04-4e1b-9f5a-a9f9f4896dab",
   "metadata": {},
   "outputs": [],
   "source": [
    "l = Wallet.send_email(\"Family\", from_date=\"2022-05-01\")"
   ]
  },
  {
   "cell_type": "code",
   "execution_count": null,
   "id": "6833efd2-1580-4ade-8bb7-a61f3281aeb8",
   "metadata": {},
   "outputs": [],
   "source": [
    "l.tag.value_counts()"
   ]
  },
  {
   "cell_type": "code",
   "execution_count": null,
   "id": "701ad5db-2da0-4329-b9c3-84011277be79",
   "metadata": {},
   "outputs": [],
   "source": [
    "l"
   ]
  },
  {
   "cell_type": "code",
   "execution_count": null,
   "id": "2425d026-e99f-473c-bf1c-76860b487962",
   "metadata": {},
   "outputs": [],
   "source": [
    "import smtplib\n",
    "import email\n",
    "import ssl\n",
    "from email import encoders\n",
    "from email.mime.base import MIMEBase\n",
    "from email.mime.multipart import MIMEMultipart"
   ]
  },
  {
   "cell_type": "code",
   "execution_count": null,
   "id": "b5d45d00-cf35-416a-9265-85194d1bf065",
   "metadata": {},
   "outputs": [],
   "source": [
    "sender_email = \"\"\n",
    "password = os.environ.get('password')\n",
    "receiver_email = account.import_mail"
   ]
  },
  {
   "cell_type": "code",
   "execution_count": null,
   "id": "6036001c-dd76-46cc-b518-2a3c5cd9f80e",
   "metadata": {},
   "outputs": [],
   "source": [
    "msg = MIMEMultipart()\n",
    "msg[\"Subject\"] = \"send to wallet\"\n",
    "msg[\"From\"] = sender_email\n",
    "msg[\"To\"] = receiver_email\n",
    "filename = \"test_csv.csv\""
   ]
  },
  {
   "cell_type": "code",
   "execution_count": null,
   "id": "bf00e36a-97a8-460c-bd2d-6a9240953a3d",
   "metadata": {},
   "outputs": [],
   "source": [
    "with open(filename, \"rb\") as att:\n",
    "    part = MIMEBase(\"application\", \"octet-stream\")\n",
    "    part.set_payload(att.read())\n",
    "part.add_header(\"Content-Disposition\", \"attachment\", filename=filename)\n",
    "msg.attach(part)"
   ]
  },
  {
   "cell_type": "code",
   "execution_count": null,
   "id": "16c0eaa6-37be-4ece-9d30-3ed4d0fa325a",
   "metadata": {},
   "outputs": [],
   "source": [
    "with smtplib.SMTP(\"smtp.mail.yahoo.com\", 587) as server:\n",
    "    server.starttls()\n",
    "    server.login(sender_email, password)\n",
    "    server.sendmail(sender_email, receiver_email, msg.as_bytes())"
   ]
  },
  {
   "cell_type": "code",
   "execution_count": null,
   "id": "feffe205-da9b-4d12-8dad-3ec5f398dcfa",
   "metadata": {},
   "outputs": [],
   "source": []
  }
 ],
 "metadata": {
  "kernelspec": {
   "display_name": "wallet",
   "language": "python",
   "name": "wallet"
  },
  "language_info": {
   "codemirror_mode": {
    "name": "ipython",
    "version": 3
   },
   "file_extension": ".py",
   "mimetype": "text/x-python",
   "name": "python",
   "nbconvert_exporter": "python",
   "pygments_lexer": "ipython3",
   "version": "3.10.4"
  }
 },
 "nbformat": 4,
 "nbformat_minor": 5
}
