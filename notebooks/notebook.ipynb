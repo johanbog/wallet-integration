{
 "cells": [
  {
   "cell_type": "code",
   "execution_count": null,
   "id": "355867ea-c147-4275-8df0-44428dbbf042",
   "metadata": {},
   "outputs": [],
   "source": [
    "# %load_ext autoreload\n",
    "# %autoreload 2\n",
    "%load_ext lab_black\n",
    "import sys\n",
    "\n",
    "sys.path.append(\"~/div/wallet/\")"
   ]
  },
  {
   "cell_type": "code",
   "execution_count": null,
   "id": "05d75389-16dd-4b07-a24d-99c761777d24",
   "metadata": {},
   "outputs": [],
   "source": [
    "from wallet.wallet import Wallet, Account, headers, Transaction, IGNORE_ACCOUNTS\n",
    "import patito as pt\n",
    "import pandas as pd\n",
    "import polars as pl\n",
    "from datetime import datetime"
   ]
  },
  {
   "cell_type": "code",
   "execution_count": null,
   "id": "1474761f-fea6-40cc-ad90-794d8c919b77",
   "metadata": {},
   "outputs": [],
   "source": [
    "accounts = Wallet.accounts()"
   ]
  },
  {
   "cell_type": "code",
   "execution_count": null,
   "id": "e624b238-fe72-4e2c-9d73-9a36839a7f1c",
   "metadata": {},
   "outputs": [],
   "source": [
    "%pip install dotenv"
   ]
  },
  {
   "cell_type": "code",
   "execution_count": null,
   "id": "9447ab21-4d8c-4fb9-b6ac-15c9958aa2a3",
   "metadata": {},
   "outputs": [],
   "source": [
    "transactions = Wallet.transactions(accounts[2], fromDate=\"2022-02-02\")\n",
    "df = Transaction.DataFrame(pd.DataFrame(transactions))"
   ]
  },
  {
   "cell_type": "code",
   "execution_count": null,
   "id": "d348a10a-a62d-4a78-8bbe-578d47d4d806",
   "metadata": {},
   "outputs": [],
   "source": [
    "def get_transfer_account(number: int):\n",
    "    acct = Wallet.account_from_number(number)\n",
    "    if acct:\n",
    "        if acct.name in IGNORE_ACCOUNTS:\n",
    "            return f\"Payment t/f {acct.name}\"\n",
    "        return f\"Transfer t/f {acct.name}\"\n",
    "\n",
    "\n",
    "def clean_data(df: pt.DataFrame):\n",
    "    if df.is_empty():\n",
    "        return df\n",
    "    return (\n",
    "        df.drop()\n",
    "        .cast()\n",
    "        .with_columns(\n",
    "            [\n",
    "                (pl.col(\"date\") // 1000)\n",
    "                .apply(datetime.fromtimestamp)\n",
    "                .apply(datetime.date),\n",
    "                pl.when(\n",
    "                    pl.col(\"remoteAccountNumber\")\n",
    "                    .apply(get_transfer_account)\n",
    "                    .is_not_null()\n",
    "                )\n",
    "                .then(pl.col(\"remoteAccountNumber\").apply(get_transfer_account))\n",
    "                .otherwise(pl.col(\"description\"))\n",
    "                .alias(\"description\"),\n",
    "            ]\n",
    "        )\n",
    "        # .drop(\"remoteAccountNumber\")\n",
    "    )"
   ]
  },
  {
   "cell_type": "code",
   "execution_count": null,
   "id": "34c9c730-e625-4d95-a70f-993590528449",
   "metadata": {},
   "outputs": [],
   "source": [
    "clean_data(df)"
   ]
  },
  {
   "cell_type": "code",
   "execution_count": null,
   "id": "24f2f26a-937b-4de1-8ec5-2e1bf8ebc7cf",
   "metadata": {},
   "outputs": [],
   "source": []
  },
  {
   "cell_type": "code",
   "execution_count": null,
   "id": "2425d026-e99f-473c-bf1c-76860b487962",
   "metadata": {},
   "outputs": [],
   "source": []
  }
 ],
 "metadata": {
  "kernelspec": {
   "display_name": "Python 3 (ipykernel)",
   "language": "python",
   "name": "python3"
  },
  "language_info": {
   "codemirror_mode": {
    "name": "ipython",
    "version": 3
   },
   "file_extension": ".py",
   "mimetype": "text/x-python",
   "name": "python",
   "nbconvert_exporter": "python",
   "pygments_lexer": "ipython3",
   "version": "3.10.4"
  }
 },
 "nbformat": 4,
 "nbformat_minor": 5
}
